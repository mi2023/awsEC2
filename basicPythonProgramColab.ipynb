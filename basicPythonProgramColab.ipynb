{
  "nbformat": 4,
  "nbformat_minor": 0,
  "metadata": {
    "colab": {
      "name": "basicPythonProgramColab.ipynb",
      "provenance": [],
      "authorship_tag": "ABX9TyPBEvfrDg9P9RuhEfPCDF4L",
      "include_colab_link": true
    },
    "kernelspec": {
      "name": "python3",
      "display_name": "Python 3"
    }
  },
  "cells": [
    {
      "cell_type": "markdown",
      "metadata": {
        "id": "view-in-github",
        "colab_type": "text"
      },
      "source": [
        "<a href=\"https://colab.research.google.com/github/mi2023/awsEC2/blob/master/basicPythonProgramColab.ipynb\" target=\"_parent\"><img src=\"https://colab.research.google.com/assets/colab-badge.svg\" alt=\"Open In Colab\"/></a>"
      ]
    },
    {
      "cell_type": "markdown",
      "metadata": {
        "id": "aA4xhjU8Wvwr",
        "colab_type": "text"
      },
      "source": [
        "# A program which receives two arguments and can perform basic arithmetic operations of addition, subtraction, multiplication and division using functions."
      ]
    },
    {
      "cell_type": "code",
      "metadata": {
        "id": "GTMlpY0cWmSH",
        "colab_type": "code",
        "colab": {
          "base_uri": "https://localhost:8080/",
          "height": 85
        },
        "outputId": "c532903f-95bd-434b-f94c-5ad6b41d021c"
      },
      "source": [
        "def main():\n",
        "    x = float(input(\"Please enter the first number: \"))\n",
        "    y = float(input(\"Please enter the second number: \"))\n",
        "    k = input(\"What do you wanna do with these two numbers? Please enter either\\\n",
        " 'addition', 'subtraction', 'multiplication' and 'division'.\")\n",
        "    \n",
        "    def calculator(x, y):\n",
        "        result = 0\n",
        "        if k == \"addition\":\n",
        "            result = x + y\n",
        "        elif k == \"subtraction\":\n",
        "            result = x - y\n",
        "        elif k == \"multiplication\":\n",
        "            result = x * y\n",
        "        elif k == \"division\":\n",
        "            result = x / y\n",
        "        else: \n",
        "            print('Error! Please enter only \"addition\", \"subtraction\", \"multiplication\", \"division\"!')\n",
        "        print(result)\n",
        "    \n",
        "    calculator(x, y)\n",
        "\n",
        "main()"
      ],
      "execution_count": 1,
      "outputs": [
        {
          "output_type": "stream",
          "text": [
            "Please enter the first number: 300\n",
            "Please enter the second number: 200\n",
            "What do you wanna do with these two numbers? Please enter either 'addition', 'subtraction', 'multiplication' and 'division'.subtraction\n",
            "100.0\n"
          ],
          "name": "stdout"
        }
      ]
    }
  ]
}